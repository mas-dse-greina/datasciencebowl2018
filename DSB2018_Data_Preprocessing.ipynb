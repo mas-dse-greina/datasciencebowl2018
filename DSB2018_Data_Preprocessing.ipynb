{
 "cells": [
  {
   "cell_type": "markdown",
   "metadata": {},
   "source": [
    "# Data preprocessing\n",
    "Here we traverse the training data directory and create a manifest for the aeon loader. Aeon expects the manifest to contain the filename of the image and the filename for the image mask. I think the image mask has to be a single file so we need to traverse the mask directories and merge the mask files together for each image.\n",
    "\n",
    "Nevertheless, I think we can modify U-Net to preict separable masks. Instead of using the np.maximum when combining masks, we use np.sum. This way the mask will be 1 in places where there is only 1 segmentation mask, 2 where 2 masks overlap, 3 where 3 masks overlap, and so forth. We can treat each overlap as its own \"class\" for U-Net to predict (similar to what SegNet does for Adas). Then in post-processing, we separate the masks."
   ]
  },
  {
   "cell_type": "code",
   "execution_count": 1,
   "metadata": {},
   "outputs": [],
   "source": [
    "import os\n",
    "import numpy as np\n",
    "import matplotlib.pyplot as plt\n",
    "\n",
    "from skimage.io import imread, imsave\n",
    "\n",
    "%matplotlib inline"
   ]
  },
  {
   "cell_type": "code",
   "execution_count": 2,
   "metadata": {
    "collapsed": true
   },
   "outputs": [],
   "source": [
    "TRAIN_PATH = \"data/train\""
   ]
  },
  {
   "cell_type": "markdown",
   "metadata": {},
   "source": [
    "## Navigate the directory where the train data is stored"
   ]
  },
  {
   "cell_type": "code",
   "execution_count": 3,
   "metadata": {
    "collapsed": true
   },
   "outputs": [],
   "source": [
    "# Get train IDs\n",
    "train_ids = next(os.walk(TRAIN_PATH))[1] "
   ]
  },
  {
   "cell_type": "code",
   "execution_count": 4,
   "metadata": {
    "collapsed": true
   },
   "outputs": [],
   "source": [
    "from ipywidgets import interact, interactive, fixed, interact_manual\n",
    "import ipywidgets as widgets"
   ]
  },
  {
   "cell_type": "markdown",
   "metadata": {},
   "source": [
    "## Read the original image"
   ]
  },
  {
   "cell_type": "code",
   "execution_count": 5,
   "metadata": {
    "collapsed": true
   },
   "outputs": [],
   "source": [
    "def get_image(ROOT_PATH, x):\n",
    "    \n",
    "    return imread(ROOT_PATH + \"/images/\" + train_ids[x] + \".png\")"
   ]
  },
  {
   "cell_type": "markdown",
   "metadata": {},
   "source": [
    "## Read the masks from the image and combine them\n",
    "\n",
    "For now we just combine the individual masks into one single mask (np.maximum). Eventually, we can sum the masks together (np.sum) so that the overlaps are marked as different classes. For example, if 4 masks overlap on a pixel, then it is class 4. In post-processing we can segment the in "
   ]
  },
  {
   "cell_type": "code",
   "execution_count": 6,
   "metadata": {
    "collapsed": true
   },
   "outputs": [],
   "source": [
    "def get_combined_mask(ROOT_PATH):\n",
    "    \n",
    "    mask_file = next(os.walk(ROOT_PATH + '/masks/'))[2][0]\n",
    "    mask = imread(ROOT_PATH + \"/masks/\" + mask_file)\n",
    "    \n",
    "    for mask_file in next(os.walk(ROOT_PATH + '/masks/'))[2][1:]:\n",
    "    \n",
    "        mask = np.maximum(mask, imread(ROOT_PATH + \"/masks/\" + mask_file))\n",
    "    \n",
    "    return mask"
   ]
  },
  {
   "cell_type": "markdown",
   "metadata": {},
   "source": [
    "## Display the image and the combined masks"
   ]
  },
  {
   "cell_type": "code",
   "execution_count": 7,
   "metadata": {
    "collapsed": true
   },
   "outputs": [],
   "source": [
    "def plot_image(x):\n",
    "    \n",
    "    print(\"Use the slider or arrow keys to move through the images.\")\n",
    "    ROOT_PATH = TRAIN_PATH + \"/{}\".format(train_ids[x])\n",
    "    img = get_image(ROOT_PATH, x)\n",
    "    print(\"Image shape = {}\".format(np.shape(img)))\n",
    "    plt.figure(figsize=(10,10))\n",
    "    plt.subplot(1,2,1)\n",
    "    plt.imshow(img)\n",
    "    \n",
    "    plt.subplot(1,2,2)\n",
    "    msk = get_combined_mask(ROOT_PATH)\n",
    "    plt.imshow(msk, cmap='gray')\n",
    "    "
   ]
  },
  {
   "cell_type": "code",
   "execution_count": 8,
   "metadata": {
    "scrolled": true
   },
   "outputs": [
    {
     "data": {
      "application/vnd.jupyter.widget-view+json": {
       "model_id": "f31f634e4f8c4ab681fe6544bc9282d1",
       "version_major": 2,
       "version_minor": 0
      },
      "text/plain": [
       "A Jupyter Widget"
      ]
     },
     "metadata": {},
     "output_type": "display_data"
    }
   ],
   "source": [
    "interact(plot_image, x=widgets.IntSlider(min=0,max=len(train_ids),step=1,value=10));"
   ]
  },
  {
   "cell_type": "code",
   "execution_count": 11,
   "metadata": {},
   "outputs": [],
   "source": [
    "from tqdm import tqdm # Fancy progress bar\n",
    "import warnings # Used to ignore warnings from skimage"
   ]
  },
  {
   "cell_type": "markdown",
   "metadata": {},
   "source": [
    "## Script to go through all images in the directory and create the manifest file for aeon loader\n",
    "\n",
    "Loops through the images and combines the masks into one file. Saves the processed masks into a new directory and creates a manifest file for the aeon dataloader to use. This will allow us to use neon as the framework."
   ]
  },
  {
   "cell_type": "code",
   "execution_count": 12,
   "metadata": {},
   "outputs": [
    {
     "name": "stderr",
     "output_type": "stream",
     "text": [
      "100%|██████████| 670/670 [02:05<00:00,  5.33it/s]\n"
     ]
    }
   ],
   "source": [
    "PROCESS_DIR_TRAIN = \"data_processed/train/\"\n",
    "\n",
    "os.makedirs(PROCESS_DIR_TRAIN + \"/images/\", exist_ok=True) #Make the processed data directory\n",
    "os.makedirs(PROCESS_DIR_TRAIN + \"/masks/\", exist_ok=True) #Make the processed data directory\n",
    "\n",
    "manifest = {}\n",
    "\n",
    "for idx in tqdm(range(len(train_ids))):\n",
    "    \n",
    "    ROOT_PATH = TRAIN_PATH + \"/{}\".format(train_ids[idx])\n",
    "    img = get_image(ROOT_PATH, idx)\n",
    "    msk = get_combined_mask(ROOT_PATH)\n",
    "    \n",
    "    fileName = PROCESS_DIR_TRAIN + \"images/\" + train_ids[idx] + \".png\"\n",
    "    maskName = PROCESS_DIR_TRAIN + \"masks/\" + train_ids[idx] + \"_mask.png\"\n",
    "    manifest[idx] = [fileName, maskName]\n",
    "    \n",
    "    with warnings.catch_warnings():\n",
    "        warnings.simplefilter(\"ignore\")  # Ignore warnings about contrast\n",
    "        imsave(fileName, img)\n",
    "        imsave(maskName, msk)\n",
    "    \n",
    "# Save the manifest file\n",
    "with open('manifest.tsv', 'w') as file:\n",
    "    file.write(\"@FILE\\tFILE\\n\")\n",
    "    \n",
    "    for key, value in manifest.items():\n",
    "        file.write(\"{}\\t{}\\n\".format(value[0], value[1]))\n",
    "    \n",
    "    "
   ]
  },
  {
   "cell_type": "code",
   "execution_count": null,
   "metadata": {
    "collapsed": true
   },
   "outputs": [],
   "source": []
  }
 ],
 "metadata": {
  "kernelspec": {
   "display_name": "Python 3",
   "language": "python",
   "name": "python3"
  },
  "language_info": {
   "codemirror_mode": {
    "name": "ipython",
    "version": 3
   },
   "file_extension": ".py",
   "mimetype": "text/x-python",
   "name": "python",
   "nbconvert_exporter": "python",
   "pygments_lexer": "ipython3",
   "version": "3.6.3"
  }
 },
 "nbformat": 4,
 "nbformat_minor": 2
}
